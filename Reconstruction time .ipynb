{
 "cells": [
  {
   "cell_type": "code",
   "execution_count": 73,
   "metadata": {},
   "outputs": [],
   "source": [
    "import numpy as np\n",
    "import pandas as pd\n",
    "import matplotlib.pyplot as plt \n",
    "import matplotlib.cm as cm\n",
    "\n",
    "from random import randint\n",
    "from random import choice\n",
    "\n",
    "import torch\n",
    "import torchvision\n",
    "import torchvision.transforms as transforms\n",
    "import torch.nn as nn\n",
    "import torch.nn.functional as F\n",
    "import torch.optim as optim\n",
    "\n",
    "from sklearn.cluster import KMeans\n",
    "from skimage.transform import radon"
   ]
  },
  {
   "cell_type": "code",
   "execution_count": 74,
   "metadata": {},
   "outputs": [],
   "source": [
    "def visualize(img) -> \"draws the image\" :\n",
    "    plt.imshow(img, cmap=cm.gray)"
   ]
  },
  {
   "cell_type": "code",
   "execution_count": 75,
   "metadata": {},
   "outputs": [],
   "source": [
    "\n",
    "def single_square_data_generator(side_size : \"size of the square's side\",\n",
    "                                     ) -> \" (x,y) tuple \" :\n",
    "\n",
    "\n",
    "    img=np.zeros((side_size,side_size)) # create an empty image\n",
    "    square_size = randint(3,side_size-3) # generate a random size of a square side\n",
    "    x = randint(1,64-square_size-1) # left starting point\n",
    "    y = randint(1,64-square_size-1) # up starting point\n",
    "    \n",
    "    # We got starting point and size of square, now, draw it ! :\n",
    "    \n",
    "    for i in range(square_size) : \n",
    "        for j in range(square_size) : \n",
    "            img[x+i,y+j] = 1 \n",
    "    \n",
    "    \n",
    "    sinogram = radon(img) # sinogram transformation from skimage.transform library [ sinogram transf is called radon transform]\n",
    "    return (sinogram, img)\n",
    "\n",
    "\n",
    "\n",
    "def square_data_generator(n : \"number of data to be generated\",\n",
    "                          side_size : \"size of the square's side\",\n",
    "                          ) -> \" (x,y) where x - list of sinograms, y - list of corresponding images\" :\n",
    "\n",
    "    x, y = [], []    \n",
    "    for _ in range(n):\n",
    "        sinogram, img = single_square_data_generator(side_size)\n",
    "        x.append(sinogram)\n",
    "        y.append(img)\n",
    "        \n",
    "    x = np.array(x)\n",
    "    y = np.array(y)\n",
    "    \n",
    "    \n",
    "    \n",
    "    #### To make it fit the NN we need to transform these to tensors, change their dimensions, and cast into double [float32]\n",
    "    \n",
    "    x = torch.from_numpy(x)\n",
    "    x = x.view(-1,1,64,180)\n",
    "    x = x.to(dtype=torch.float32)\n",
    "    \n",
    "    \n",
    "    #### Do we need to convert y to tensor as well? Probs yes so we use GPU to calculate Cross Entropy loss ?\n",
    "\n",
    "    return (x,y)"
   ]
  },
  {
   "cell_type": "code",
   "execution_count": 131,
   "metadata": {},
   "outputs": [],
   "source": [
    "sinogram, img = square_data_generator(1,64)"
   ]
  },
  {
   "cell_type": "code",
   "execution_count": 132,
   "metadata": {},
   "outputs": [
    {
     "name": "stdout",
     "output_type": "stream",
     "text": [
      "sinogram.shape : torch.Size([64, 180])\n"
     ]
    },
    {
     "data": {
      "image/png": "[encoded data removed]",
      "text/plain": [
       "<Figure size 432x288 with 1 Axes>"
      ]
     },
     "metadata": {
      "needs_background": "light"
     },
     "output_type": "display_data"
    }
   ],
   "source": [
    "sinogram = sinogram[0,0] \n",
    "print(\"sinogram.shape : {}\".format(sinogram.shape))\n",
    "visualize(sinogram)"
   ]
  },
  {
   "cell_type": "code",
   "execution_count": 133,
   "metadata": {},
   "outputs": [
    {
     "name": "stdout",
     "output_type": "stream",
     "text": [
      "img.shape : (64, 64)\n"
     ]
    },
    {
     "data": {
      "image/png": "[encoded data removed]",
      "text/plain": [
       "<Figure size 432x288 with 1 Axes>"
      ]
     },
     "metadata": {
      "needs_background": "light"
     },
     "output_type": "display_data"
    }
   ],
   "source": [
    "img = img[0]\n",
    "print(\"img.shape : {}\".format(img.shape))\n",
    "visualize(img)"
   ]
  },
  {
   "cell_type": "markdown",
   "metadata": {},
   "source": [
    "## Reconstructing from 2 angles : "
   ]
  },
  {
   "cell_type": "code",
   "execution_count": 134,
   "metadata": {},
   "outputs": [],
   "source": [
    "def reconstruct_from_2_right_angles(sinogram):\n",
    "    angle_0 = sinogram[:,0]\n",
    "    angle_90 = sinogram[:,90]\n",
    "    \n",
    "    angle_90 = angle_90.view(-1,1).numpy()\n",
    "    angle_0 = angle_0.view(1,-1).numpy()\n",
    "    \n",
    "    angle_90 = np.flip(angle_90)\n",
    "    #angle_0 = np.flip(angle_0)\n",
    "    \n",
    "    reconstructed = (angle_0 + angle_90)\n",
    "    visualize(reconstructed)"
   ]
  },
  {
   "cell_type": "code",
   "execution_count": 135,
   "metadata": {},
   "outputs": [
    {
     "data": {
      "image/png": "[encoded data removed]",
      "text/plain": [
       "<Figure size 432x288 with 1 Axes>"
      ]
     },
     "metadata": {
      "needs_background": "light"
     },
     "output_type": "display_data"
    }
   ],
   "source": [
    "reconstruct_from_2_right_angles(sinogram)"
   ]
  },
  {
   "cell_type": "markdown",
   "metadata": {},
   "source": [
    "## Define reconstructing algorithm \n",
    "\n",
    "\n",
    "Define an algorithm that reconstructs from : \n",
    "\n",
    "x amount of angles \n",
    "Uses the 2 info about a projection : it's angle, and it's array of values "
   ]
  },
  {
   "cell_type": "code",
   "execution_count": null,
   "metadata": {},
   "outputs": [],
   "source": [
    "def reconstruct(projections, # Projections should be a dict in form : {angle : [array of values]}\n",
    "                size = 64, #size of a image\n",
    "                sq_size  # Perhaps some additional info ?? Just an idea, don't implement yet\n",
    "               ) -> \"Outputs a reconstructed image\" :\n",
    "    \n",
    "    \n",
    "    reconstructed_img = np.zeros((size,size))\n",
    "    \n",
    "    \n",
    "    # Iterate over all of our information  :\n",
    "    \n",
    "    for x, y in projections.items():\n",
    "        add_info(reconstructed_img, x, y) # x - angle_nr, y - list \n",
    "    \n",
    "    \n",
    "    \n",
    "    \n",
    "    \n",
    "def add_info(img, # Input image\n",
    "             x,   # The angle number \n",
    "             y,   # The sinogram angle's list \n",
    "            ) -> \"updated img\" : \n",
    "    \n",
    "    # Step 1 - Rotate the image ?\n",
    "    \n",
    "    # Step 2 - Update using the array values\n",
    "    \n",
    "    \n",
    "    \n",
    "    \n",
    "    \n",
    "    "
   ]
  },
  {
   "cell_type": "code",
   "execution_count": null,
   "metadata": {},
   "outputs": [],
   "source": []
  },
  {
   "cell_type": "code",
   "execution_count": null,
   "metadata": {},
   "outputs": [],
   "source": []
  },
  {
   "cell_type": "code",
   "execution_count": null,
   "metadata": {},
   "outputs": [],
   "source": []
  },
  {
   "cell_type": "code",
   "execution_count": null,
   "metadata": {},
   "outputs": [],
   "source": []
  },
  {
   "cell_type": "code",
   "execution_count": null,
   "metadata": {},
   "outputs": [],
   "source": []
  }
 ],
 "metadata": {
  "kernelspec": {
   "display_name": "Python 3",
   "language": "python",
   "name": "python3"
  },
  "language_info": {
   "codemirror_mode": {
    "name": "ipython",
    "version": 3
   },
   "file_extension": ".py",
   "mimetype": "text/x-python",
   "name": "python",
   "nbconvert_exporter": "python",
   "pygments_lexer": "ipython3",
   "version": "3.7.6"
  }
 },
 "nbformat": 4,
 "nbformat_minor": 4
}
